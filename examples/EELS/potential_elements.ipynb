{
 "cells": [
  {
   "cell_type": "code",
   "execution_count": 22,
   "metadata": {},
   "outputs": [
    {
     "name": "stdout",
     "output_type": "stream",
     "text": [
      "\n",
      "Scalar-relativistic atomic PBE calculation for Lu (Lutetium, Z=71)\n",
      "900 radial gridpoints.\n",
      "|------------------------------------------------|\n"
     ]
    },
    {
     "ename": "ConvergenceError",
     "evalue": "Bad initial electron density guess!",
     "output_type": "error",
     "traceback": [
      "\u001b[0;31m---------------------------------------------------------------------------\u001b[0m",
      "\u001b[0;31mConvergenceError\u001b[0m                          Traceback (most recent call last)",
      "\u001b[0;32m/tmp/ipykernel_18033/1218031077.py\u001b[0m in \u001b[0;36m<module>\u001b[0;34m\u001b[0m\n\u001b[1;32m     12\u001b[0m \u001b[0;32mfor\u001b[0m \u001b[0mZ\u001b[0m \u001b[0;32min\u001b[0m \u001b[0mrange\u001b[0m\u001b[0;34m(\u001b[0m\u001b[0;36m71\u001b[0m\u001b[0;34m,\u001b[0m\u001b[0;36m72\u001b[0m\u001b[0;34m)\u001b[0m\u001b[0;34m:\u001b[0m\u001b[0;34m\u001b[0m\u001b[0;34m\u001b[0m\u001b[0m\n\u001b[1;32m     13\u001b[0m     \u001b[0mae\u001b[0m \u001b[0;34m=\u001b[0m \u001b[0mAllElectron\u001b[0m\u001b[0;34m(\u001b[0m\u001b[0mchemical_symbols\u001b[0m\u001b[0;34m[\u001b[0m\u001b[0mZ\u001b[0m\u001b[0;34m]\u001b[0m\u001b[0;34m,\u001b[0m \u001b[0mxcname\u001b[0m\u001b[0;34m=\u001b[0m\u001b[0;34m'PBE'\u001b[0m\u001b[0;34m)\u001b[0m\u001b[0;34m\u001b[0m\u001b[0;34m\u001b[0m\u001b[0m\n\u001b[0;32m---> 14\u001b[0;31m     \u001b[0mae\u001b[0m\u001b[0;34m.\u001b[0m\u001b[0mrun\u001b[0m\u001b[0;34m(\u001b[0m\u001b[0;34m)\u001b[0m\u001b[0;34m\u001b[0m\u001b[0;34m\u001b[0m\u001b[0m\n\u001b[0m\u001b[1;32m     15\u001b[0m     \u001b[0mdf\u001b[0m\u001b[0;34m.\u001b[0m\u001b[0mloc\u001b[0m\u001b[0;34m[\u001b[0m\u001b[0mchemical_symbols\u001b[0m\u001b[0;34m[\u001b[0m\u001b[0mZ\u001b[0m\u001b[0;34m]\u001b[0m\u001b[0;34m]\u001b[0m\u001b[0;34m=\u001b[0m\u001b[0mpd\u001b[0m\u001b[0;34m.\u001b[0m\u001b[0mSeries\u001b[0m\u001b[0;34m(\u001b[0m\u001b[0;34m{\u001b[0m\u001b[0;34m'r'\u001b[0m\u001b[0;34m:\u001b[0m\u001b[0mae\u001b[0m\u001b[0;34m.\u001b[0m\u001b[0mr\u001b[0m\u001b[0;34m,\u001b[0m\u001b[0;34m'vr'\u001b[0m\u001b[0;34m:\u001b[0m\u001b[0mae\u001b[0m\u001b[0;34m.\u001b[0m\u001b[0mvr\u001b[0m\u001b[0;34m}\u001b[0m\u001b[0;34m)\u001b[0m\u001b[0;34m\u001b[0m\u001b[0;34m\u001b[0m\u001b[0m\n\u001b[1;32m     16\u001b[0m \u001b[0;34m\u001b[0m\u001b[0m\n",
      "\u001b[0;32m~/miniconda3/envs/em/lib/python3.9/site-packages/gpaw/atom/all_electron.py\u001b[0m in \u001b[0;36mrun\u001b[0;34m(self, use_restart_file)\u001b[0m\n\u001b[1;32m    280\u001b[0m \u001b[0;34m\u001b[0m\u001b[0m\n\u001b[1;32m    281\u001b[0m             \u001b[0;31m# solve Kohn-Sham equation and determine the density change\u001b[0m\u001b[0;34m\u001b[0m\u001b[0;34m\u001b[0m\u001b[0m\n\u001b[0;32m--> 282\u001b[0;31m             \u001b[0mself\u001b[0m\u001b[0;34m.\u001b[0m\u001b[0msolve\u001b[0m\u001b[0;34m(\u001b[0m\u001b[0;34m)\u001b[0m\u001b[0;34m\u001b[0m\u001b[0;34m\u001b[0m\u001b[0m\n\u001b[0m\u001b[1;32m    283\u001b[0m             \u001b[0mdn\u001b[0m \u001b[0;34m=\u001b[0m \u001b[0mself\u001b[0m\u001b[0;34m.\u001b[0m\u001b[0mcalculate_density\u001b[0m\u001b[0;34m(\u001b[0m\u001b[0;34m)\u001b[0m \u001b[0;34m-\u001b[0m \u001b[0mn\u001b[0m\u001b[0;34m\u001b[0m\u001b[0;34m\u001b[0m\u001b[0m\n\u001b[1;32m    284\u001b[0m             \u001b[0mn\u001b[0m \u001b[0;34m+=\u001b[0m \u001b[0mdn\u001b[0m\u001b[0;34m\u001b[0m\u001b[0;34m\u001b[0m\u001b[0m\n",
      "\u001b[0;32m~/miniconda3/envs/em/lib/python3.9/site-packages/gpaw/atom/all_electron.py\u001b[0m in \u001b[0;36msolve\u001b[0;34m(self)\u001b[0m\n\u001b[1;32m    554\u001b[0m             \u001b[0mnodes\u001b[0m \u001b[0;34m=\u001b[0m \u001b[0mn\u001b[0m \u001b[0;34m-\u001b[0m \u001b[0ml\u001b[0m \u001b[0;34m-\u001b[0m \u001b[0;36m1\u001b[0m  \u001b[0;31m# analytically expected number of nodes\u001b[0m\u001b[0;34m\u001b[0m\u001b[0;34m\u001b[0m\u001b[0m\n\u001b[1;32m    555\u001b[0m             \u001b[0mdelta\u001b[0m \u001b[0;34m=\u001b[0m \u001b[0;34m-\u001b[0m\u001b[0;36m0.2\u001b[0m \u001b[0;34m*\u001b[0m \u001b[0me\u001b[0m\u001b[0;34m\u001b[0m\u001b[0;34m\u001b[0m\u001b[0m\n\u001b[0;32m--> 556\u001b[0;31m             nn, A = shoot(u, l, vr, e, self.r2dvdr, r, dr, c10, c2,\n\u001b[0m\u001b[1;32m    557\u001b[0m                           self.scalarrel)\n\u001b[1;32m    558\u001b[0m             \u001b[0;31m# adjust eigenenergy until u has the correct number of nodes\u001b[0m\u001b[0;34m\u001b[0m\u001b[0;34m\u001b[0m\u001b[0m\n",
      "\u001b[0;32m~/miniconda3/envs/em/lib/python3.9/site-packages/gpaw/atom/all_electron.py\u001b[0m in \u001b[0;36mshoot\u001b[0;34m(u, l, vr, e, r2dvdr, r, dr, c10, c2, scalarrel, gmax)\u001b[0m\n\u001b[1;32m    735\u001b[0m     \u001b[0mc0\u001b[0m \u001b[0;34m=\u001b[0m \u001b[0ml\u001b[0m \u001b[0;34m*\u001b[0m \u001b[0;34m(\u001b[0m\u001b[0ml\u001b[0m \u001b[0;34m+\u001b[0m \u001b[0;36m1\u001b[0m\u001b[0;34m)\u001b[0m \u001b[0;34m+\u001b[0m \u001b[0;36m2\u001b[0m \u001b[0;34m*\u001b[0m \u001b[0mMr\u001b[0m \u001b[0;34m*\u001b[0m \u001b[0;34m(\u001b[0m\u001b[0mvr\u001b[0m \u001b[0;34m-\u001b[0m \u001b[0me\u001b[0m \u001b[0;34m*\u001b[0m \u001b[0mr\u001b[0m\u001b[0;34m)\u001b[0m\u001b[0;34m\u001b[0m\u001b[0;34m\u001b[0m\u001b[0m\n\u001b[1;32m    736\u001b[0m     \u001b[0;32mif\u001b[0m \u001b[0mgmax\u001b[0m \u001b[0;32mis\u001b[0m \u001b[0;32mNone\u001b[0m \u001b[0;32mand\u001b[0m \u001b[0mnp\u001b[0m\u001b[0;34m.\u001b[0m\u001b[0malltrue\u001b[0m\u001b[0;34m(\u001b[0m\u001b[0mc0\u001b[0m \u001b[0;34m>\u001b[0m \u001b[0;36m0\u001b[0m\u001b[0;34m)\u001b[0m\u001b[0;34m:\u001b[0m\u001b[0;34m\u001b[0m\u001b[0;34m\u001b[0m\u001b[0m\n\u001b[0;32m--> 737\u001b[0;31m         \u001b[0;32mraise\u001b[0m \u001b[0mConvergenceError\u001b[0m\u001b[0;34m(\u001b[0m\u001b[0;34m'Bad initial electron density guess!'\u001b[0m\u001b[0;34m)\u001b[0m\u001b[0;34m\u001b[0m\u001b[0;34m\u001b[0m\u001b[0m\n\u001b[0m\u001b[1;32m    738\u001b[0m \u001b[0;34m\u001b[0m\u001b[0m\n\u001b[1;32m    739\u001b[0m     \u001b[0mc1\u001b[0m \u001b[0;34m=\u001b[0m \u001b[0mc10\u001b[0m\u001b[0;34m\u001b[0m\u001b[0;34m\u001b[0m\u001b[0m\n",
      "\u001b[0;31mConvergenceError\u001b[0m: Bad initial electron density guess!"
     ]
    }
   ],
   "source": [
    "import os\n",
    "from gpaw.atom.all_electron import AllElectron\n",
    "from ase.data import chemical_symbols\n",
    "import pandas as pd\n",
    "\n",
    "\n",
    "index = chemical_symbols[1:]\n",
    "columns = ['r','vr']\n",
    "\n",
    "df = pd.DataFrame(columns=columns,index=index)\n",
    "\n",
    "for Z in range(71,72):\n",
    "    ae = AllElectron(chemical_symbols[Z], xcname='PBE')\n",
    "    ae.run()\n",
    "    df.loc[chemical_symbols[Z]]=pd.Series({'r':ae.r,'vr':ae.vr})\n",
    "    \n",
    "\n",
    "    "
   ]
  },
  {
   "cell_type": "code",
   "execution_count": 12,
   "metadata": {},
   "outputs": [
    {
     "data": {
      "text/plain": [
       "'Gd'"
      ]
     },
     "execution_count": 12,
     "metadata": {},
     "output_type": "execute_result"
    }
   ],
   "source": [
    "chemical_symbols[64]"
   ]
  },
  {
   "cell_type": "code",
   "execution_count": 18,
   "metadata": {},
   "outputs": [],
   "source": [
    "df.to_csv('atomic_potential_DFT.csv',index_label=True)"
   ]
  },
  {
   "cell_type": "code",
   "execution_count": 2,
   "metadata": {},
   "outputs": [
    {
     "data": {
      "text/plain": [
       "['X',\n",
       " 'H',\n",
       " 'He',\n",
       " 'Li',\n",
       " 'Be',\n",
       " 'B',\n",
       " 'C',\n",
       " 'N',\n",
       " 'O',\n",
       " 'F',\n",
       " 'Ne',\n",
       " 'Na',\n",
       " 'Mg',\n",
       " 'Al',\n",
       " 'Si',\n",
       " 'P',\n",
       " 'S',\n",
       " 'Cl',\n",
       " 'Ar',\n",
       " 'K',\n",
       " 'Ca',\n",
       " 'Sc',\n",
       " 'Ti',\n",
       " 'V',\n",
       " 'Cr',\n",
       " 'Mn',\n",
       " 'Fe',\n",
       " 'Co',\n",
       " 'Ni',\n",
       " 'Cu',\n",
       " 'Zn',\n",
       " 'Ga',\n",
       " 'Ge',\n",
       " 'As',\n",
       " 'Se',\n",
       " 'Br',\n",
       " 'Kr',\n",
       " 'Rb',\n",
       " 'Sr',\n",
       " 'Y',\n",
       " 'Zr',\n",
       " 'Nb',\n",
       " 'Mo',\n",
       " 'Tc',\n",
       " 'Ru',\n",
       " 'Rh',\n",
       " 'Pd',\n",
       " 'Ag',\n",
       " 'Cd',\n",
       " 'In',\n",
       " 'Sn',\n",
       " 'Sb',\n",
       " 'Te',\n",
       " 'I',\n",
       " 'Xe',\n",
       " 'Cs',\n",
       " 'Ba',\n",
       " 'La',\n",
       " 'Ce',\n",
       " 'Pr',\n",
       " 'Nd',\n",
       " 'Pm',\n",
       " 'Sm',\n",
       " 'Eu',\n",
       " 'Gd',\n",
       " 'Tb',\n",
       " 'Dy',\n",
       " 'Ho',\n",
       " 'Er',\n",
       " 'Tm',\n",
       " 'Yb',\n",
       " 'Lu',\n",
       " 'Hf',\n",
       " 'Ta',\n",
       " 'W',\n",
       " 'Re',\n",
       " 'Os',\n",
       " 'Ir',\n",
       " 'Pt',\n",
       " 'Au',\n",
       " 'Hg',\n",
       " 'Tl',\n",
       " 'Pb',\n",
       " 'Bi',\n",
       " 'Po',\n",
       " 'At',\n",
       " 'Rn',\n",
       " 'Fr',\n",
       " 'Ra',\n",
       " 'Ac',\n",
       " 'Th',\n",
       " 'Pa',\n",
       " 'U',\n",
       " 'Np',\n",
       " 'Pu',\n",
       " 'Am',\n",
       " 'Cm',\n",
       " 'Bk',\n",
       " 'Cf',\n",
       " 'Es',\n",
       " 'Fm',\n",
       " 'Md',\n",
       " 'No',\n",
       " 'Lr',\n",
       " 'Rf',\n",
       " 'Db',\n",
       " 'Sg',\n",
       " 'Bh',\n",
       " 'Hs',\n",
       " 'Mt',\n",
       " 'Ds',\n",
       " 'Rg',\n",
       " 'Cn',\n",
       " 'Nh',\n",
       " 'Fl',\n",
       " 'Mc',\n",
       " 'Lv',\n",
       " 'Ts',\n",
       " 'Og']"
      ]
     },
     "execution_count": 2,
     "metadata": {},
     "output_type": "execute_result"
    }
   ],
   "source": [
    "from ase.data import chemical_symbols\n",
    "\n",
    "chemical_symbols"
   ]
  },
  {
   "cell_type": "code",
   "execution_count": null,
   "metadata": {},
   "outputs": [],
   "source": []
  }
 ],
 "metadata": {
  "interpreter": {
   "hash": "12b8654a3e9f51e9e5ae81cda076ec22da562dead78e4edc119acc3de19d41a2"
  },
  "kernelspec": {
   "display_name": "Python 3.9.7 64-bit ('em': conda)",
   "name": "python3"
  },
  "language_info": {
   "codemirror_mode": {
    "name": "ipython",
    "version": 3
   },
   "file_extension": ".py",
   "mimetype": "text/x-python",
   "name": "python",
   "nbconvert_exporter": "python",
   "pygments_lexer": "ipython3",
   "version": "3.9.7"
  },
  "orig_nbformat": 4
 },
 "nbformat": 4,
 "nbformat_minor": 2
}
